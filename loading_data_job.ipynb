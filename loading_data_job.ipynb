{
 "cells": [
  {
   "cell_type": "code",
   "execution_count": 5,
   "id": "82eec1bb-8c42-4875-9f9c-c59d62946e1d",
   "metadata": {
    "collapsed": true,
    "jupyter": {
     "outputs_hidden": true
    },
    "tags": []
   },
   "outputs": [
    {
     "name": "stdout",
     "output_type": "stream",
     "text": [
      "Requirement already satisfied: pip in /opt/conda/lib/python3.7/site-packages (23.1.2)\n",
      "Requirement already satisfied: sagemaker in /opt/conda/lib/python3.7/site-packages (2.166.0)\n",
      "Requirement already satisfied: attrs<24,>=23.1.0 in /opt/conda/lib/python3.7/site-packages (from sagemaker) (23.1.0)\n",
      "Requirement already satisfied: boto3<2.0,>=1.26.131 in /opt/conda/lib/python3.7/site-packages (from sagemaker) (1.26.156)\n",
      "Requirement already satisfied: cloudpickle==2.2.1 in /opt/conda/lib/python3.7/site-packages (from sagemaker) (2.2.1)\n",
      "Requirement already satisfied: google-pasta in /opt/conda/lib/python3.7/site-packages (from sagemaker) (0.2.0)\n",
      "Requirement already satisfied: numpy<2.0,>=1.9.0 in /opt/conda/lib/python3.7/site-packages (from sagemaker) (1.18.1)\n",
      "Requirement already satisfied: protobuf<4.0,>=3.1 in /opt/conda/lib/python3.7/site-packages (from sagemaker) (3.20.3)\n",
      "Requirement already satisfied: protobuf3-to-dict<1.0,>=0.1.5 in /opt/conda/lib/python3.7/site-packages (from sagemaker) (0.1.5)\n",
      "Requirement already satisfied: smdebug-rulesconfig==1.0.1 in /opt/conda/lib/python3.7/site-packages (from sagemaker) (1.0.1)\n",
      "Requirement already satisfied: importlib-metadata<5.0,>=1.4.0 in /opt/conda/lib/python3.7/site-packages (from sagemaker) (1.5.0)\n",
      "Requirement already satisfied: packaging>=20.0 in /opt/conda/lib/python3.7/site-packages (from sagemaker) (20.1)\n",
      "Requirement already satisfied: pandas in /opt/conda/lib/python3.7/site-packages (from sagemaker) (1.3.5)\n",
      "Requirement already satisfied: pathos in /opt/conda/lib/python3.7/site-packages (from sagemaker) (0.3.0)\n",
      "Requirement already satisfied: schema in /opt/conda/lib/python3.7/site-packages (from sagemaker) (0.7.5)\n",
      "Collecting PyYAML==6.0 (from sagemaker)\n",
      "  Using cached PyYAML-6.0-cp37-cp37m-manylinux_2_5_x86_64.manylinux1_x86_64.manylinux_2_12_x86_64.manylinux2010_x86_64.whl (596 kB)\n",
      "Requirement already satisfied: jsonschema in /opt/conda/lib/python3.7/site-packages (from sagemaker) (3.2.0)\n",
      "Requirement already satisfied: platformdirs in /opt/conda/lib/python3.7/site-packages (from sagemaker) (3.2.0)\n",
      "Requirement already satisfied: tblib==1.7.0 in /opt/conda/lib/python3.7/site-packages (from sagemaker) (1.7.0)\n",
      "Requirement already satisfied: botocore<1.30.0,>=1.29.156 in /opt/conda/lib/python3.7/site-packages (from boto3<2.0,>=1.26.131->sagemaker) (1.29.156)\n",
      "Requirement already satisfied: jmespath<2.0.0,>=0.7.1 in /opt/conda/lib/python3.7/site-packages (from boto3<2.0,>=1.26.131->sagemaker) (1.0.1)\n",
      "Requirement already satisfied: s3transfer<0.7.0,>=0.6.0 in /opt/conda/lib/python3.7/site-packages (from boto3<2.0,>=1.26.131->sagemaker) (0.6.0)\n",
      "Requirement already satisfied: zipp>=0.5 in /opt/conda/lib/python3.7/site-packages (from importlib-metadata<5.0,>=1.4.0->sagemaker) (2.2.0)\n",
      "Requirement already satisfied: pyparsing>=2.0.2 in /opt/conda/lib/python3.7/site-packages (from packaging>=20.0->sagemaker) (2.4.6)\n",
      "Requirement already satisfied: six in /opt/conda/lib/python3.7/site-packages (from packaging>=20.0->sagemaker) (1.14.0)\n",
      "Requirement already satisfied: pyrsistent>=0.14.0 in /opt/conda/lib/python3.7/site-packages (from jsonschema->sagemaker) (0.15.7)\n",
      "Requirement already satisfied: setuptools in /opt/conda/lib/python3.7/site-packages (from jsonschema->sagemaker) (45.2.0.post20200210)\n",
      "Requirement already satisfied: python-dateutil>=2.7.3 in /opt/conda/lib/python3.7/site-packages (from pandas->sagemaker) (2.8.2)\n",
      "Requirement already satisfied: pytz>=2017.3 in /opt/conda/lib/python3.7/site-packages (from pandas->sagemaker) (2019.3)\n",
      "Requirement already satisfied: ppft>=1.7.6.6 in /opt/conda/lib/python3.7/site-packages (from pathos->sagemaker) (1.7.6.6)\n",
      "Requirement already satisfied: dill>=0.3.6 in /opt/conda/lib/python3.7/site-packages (from pathos->sagemaker) (0.3.6)\n",
      "Requirement already satisfied: pox>=0.3.2 in /opt/conda/lib/python3.7/site-packages (from pathos->sagemaker) (0.3.2)\n",
      "Requirement already satisfied: multiprocess>=0.70.14 in /opt/conda/lib/python3.7/site-packages (from pathos->sagemaker) (0.70.14)\n",
      "Requirement already satisfied: typing-extensions>=4.5 in /opt/conda/lib/python3.7/site-packages (from platformdirs->sagemaker) (4.5.0)\n",
      "Requirement already satisfied: contextlib2>=0.5.5 in /opt/conda/lib/python3.7/site-packages (from schema->sagemaker) (0.6.0.post1)\n",
      "Requirement already satisfied: urllib3<1.27,>=1.25.4 in /opt/conda/lib/python3.7/site-packages (from botocore<1.30.0,>=1.29.156->boto3<2.0,>=1.26.131->sagemaker) (1.26.15)\n",
      "Installing collected packages: PyYAML\n",
      "  Attempting uninstall: PyYAML\n",
      "    Found existing installation: PyYAML 5.3\n",
      "\u001b[31mERROR: Cannot uninstall 'PyYAML'. It is a distutils installed project and thus we cannot accurately determine which files belong to it which would lead to only a partial uninstall.\u001b[0m\u001b[31m\n",
      "\u001b[0mNote: you may need to restart the kernel to use updated packages.\n"
     ]
    }
   ],
   "source": [
    "%pip install --upgrade pip sagemaker"
   ]
  },
  {
   "cell_type": "code",
   "execution_count": 2,
   "id": "c6c24be5-6f86-44cd-8c13-aa8f2e9c419d",
   "metadata": {
    "tags": []
   },
   "outputs": [
    {
     "data": {
      "text/plain": [
       "{'status': 'ok', 'restart': True}"
      ]
     },
     "execution_count": 2,
     "metadata": {},
     "output_type": "execute_result"
    }
   ],
   "source": [
    "# Restart kernel to get the packages\n",
    "import IPython\n",
    "IPython.Application.instance().kernel.do_shutdown(True)"
   ]
  },
  {
   "cell_type": "code",
   "execution_count": null,
   "id": "b50d1c58-928e-41a6-b5bf-13b9ea69f9fe",
   "metadata": {
    "tags": []
   },
   "outputs": [],
   "source": [
    "import time\n",
    "import os\n",
    "import json\n",
    "import botocore\n",
    "import boto3\n",
    "import numpy as np  \n",
    "import pandas as pd \n",
    "import sagemaker\n",
    "\n",
    "sagemaker.__version__"
   ]
  },
  {
   "cell_type": "code",
   "execution_count": 2,
   "id": "ede683a2-545b-484d-82e7-9a51a715ef9e",
   "metadata": {
    "tags": []
   },
   "outputs": [],
   "source": [
    "import logging\n",
    "import boto3\n",
    "from botocore.exceptions import ClientError\n",
    "\n",
    "\n",
    "def create_bucket(bucket_name, region=None):\n",
    "    \"\"\"Create an S3 bucket in a specified region\n",
    "\n",
    "    If a region is not specified, the bucket is created in the S3 default\n",
    "    region (us-east-1).\n",
    "\n",
    "    :param bucket_name: Bucket to create\n",
    "    :param region: String region to create bucket in, e.g., 'us-west-2'\n",
    "    :return: True if bucket created, else False\n",
    "    \"\"\"\n",
    "\n",
    "    # Create bucket\n",
    "    try:\n",
    "        if region is None:\n",
    "            s3_client = boto3.client('s3')\n",
    "            s3_client.create_bucket(Bucket=bucket_name)\n",
    "        else:\n",
    "            s3_client = boto3.client('s3', region_name=region)\n",
    "            location = {'LocationConstraint': region}\n",
    "            s3_client.create_bucket(Bucket=bucket_name,\n",
    "                                    CreateBucketConfiguration=location)\n",
    "    except ClientError as e:\n",
    "        logging.error(e)\n",
    "        return False\n",
    "    return True"
   ]
  },
  {
   "cell_type": "code",
   "execution_count": 7,
   "id": "239093c9-915a-467f-bf8a-f6e53c6a11d6",
   "metadata": {
    "tags": []
   },
   "outputs": [],
   "source": [
    "bucket_name = \"sagemaker-zara-blouses-generation\""
   ]
  },
  {
   "cell_type": "code",
   "execution_count": 8,
   "id": "86897c6b-7802-41f6-a92d-f3f8e2e6a6e9",
   "metadata": {
    "tags": []
   },
   "outputs": [
    {
     "data": {
      "text/plain": [
       "True"
      ]
     },
     "execution_count": 8,
     "metadata": {},
     "output_type": "execute_result"
    }
   ],
   "source": [
    "create_bucket(bucket_name, region='eu-central-1')"
   ]
  },
  {
   "cell_type": "code",
   "execution_count": 9,
   "id": "81c4ddac-b2e6-43ae-badb-72a1e51e756d",
   "metadata": {
    "tags": []
   },
   "outputs": [],
   "source": [
    "# Get some variables you need to interact with SageMaker service\n",
    "boto_session = boto3.Session()\n",
    "region = boto_session.region_name\n",
    "bucket_prefix = \"loading_dataset\"  \n",
    "sm_session = sagemaker.Session()\n",
    "sm_client = boto_session.client(\"sagemaker\")\n",
    "sm_role = sagemaker.get_execution_role()\n",
    "\n",
    "initialized = True"
   ]
  },
  {
   "cell_type": "code",
   "execution_count": 10,
   "id": "ad5ec616-10ce-41d6-ab3a-b60e44879d0b",
   "metadata": {
    "tags": []
   },
   "outputs": [
    {
     "name": "stdout",
     "output_type": "stream",
     "text": [
      "Stored 'bucket_name' (str)\n",
      "Stored 'bucket_prefix' (str)\n",
      "Stored 'sm_role' (str)\n",
      "Stored 'region' (str)\n",
      "Stored 'initialized' (bool)\n"
     ]
    }
   ],
   "source": [
    "# Store some variables to keep the value between the notebooks\n",
    "%store bucket_name\n",
    "%store bucket_prefix\n",
    "%store sm_role\n",
    "%store region\n",
    "%store initialized"
   ]
  },
  {
   "cell_type": "code",
   "execution_count": 11,
   "id": "d82e4512-536a-4963-95ae-5591a29ca0e8",
   "metadata": {
    "tags": []
   },
   "outputs": [
    {
     "name": "stdout",
     "output_type": "stream",
     "text": [
      "SageMaker domain id: d-ivd5gnez0yil\n",
      "Stored 'domain_id' (str)\n"
     ]
    }
   ],
   "source": [
    "NOTEBOOK_METADATA_FILE = \"/opt/ml/metadata/resource-metadata.json\"\n",
    "domain_id = None\n",
    "\n",
    "if os.path.exists(NOTEBOOK_METADATA_FILE):\n",
    "    with open(NOTEBOOK_METADATA_FILE, \"rb\") as f:\n",
    "        domain_id = json.loads(f.read()).get('DomainId')\n",
    "        print(f\"SageMaker domain id: {domain_id}\")\n",
    "\n",
    "%store domain_id"
   ]
  },
  {
   "cell_type": "code",
   "execution_count": 12,
   "id": "f6209cee-7c40-439d-a7d9-4037b1c59e5e",
   "metadata": {
    "tags": []
   },
   "outputs": [],
   "source": [
    "framework_version = \"0.23-1\"\n",
    "processing_instance_type = \"ml.m5.large\"\n",
    "processing_instance_count = 1"
   ]
  },
  {
   "cell_type": "code",
   "execution_count": 13,
   "id": "68f7a718-3b33-4494-8ae5-03f246a14e08",
   "metadata": {
    "tags": []
   },
   "outputs": [
    {
     "name": "stdout",
     "output_type": "stream",
     "text": [
      "Stored variables and their in-db values:\n",
      "bucket_name                    -> 'sagemaker-zara-blouses-generation'\n",
      "bucket_prefix                  -> 'loading_dataset'\n",
      "domain_id                      -> 'd-ivd5gnez0yil'\n",
      "initialized                    -> True\n",
      "input_s3_url                   -> 's3://sagemaker-eu-central-1-567821811420/loading_\n",
      "region                         -> 'eu-central-1'\n",
      "sm_role                        -> 'arn:aws:iam::567821811420:role/service-role/Amazo\n",
      "zara_images_s3_url             -> 's3://sagemaker-eu-central-1-567821811420/loading_\n"
     ]
    }
   ],
   "source": [
    "%store -r \n",
    "\n",
    "%store\n",
    "\n",
    "try:\n",
    "    initialized\n",
    "except NameError:\n",
    "    print(\"+++++++++++++++++++++++++++++++++++++++++++++++++\")\n",
    "    print(\"[ERROR] YOU HAVE TO RUN 00-start-here notebook   \")\n",
    "    print(\"+++++++++++++++++++++++++++++++++++++++++++++++++\")"
   ]
  },
  {
   "cell_type": "code",
   "execution_count": 14,
   "id": "31c58e9c-d8eb-4022-aa36-835e265eb756",
   "metadata": {
    "tags": []
   },
   "outputs": [],
   "source": [
    "session = sagemaker.Session()\n",
    "sm = session.sagemaker_client"
   ]
  },
  {
   "cell_type": "code",
   "execution_count": 52,
   "id": "4211c4fb-884a-48a9-963b-13262380a317",
   "metadata": {
    "tags": []
   },
   "outputs": [
    {
     "name": "stdout",
     "output_type": "stream",
     "text": [
      "s3://sagemaker-zara-blouses-generation/loading_dataset/zara_images\n",
      "Stored 'zara_images_s3_url' (str)\n"
     ]
    }
   ],
   "source": [
    "# Define where the training job stores the model artifact\n",
    "zara_images_s3_url = f\"s3://{bucket_name}/{bucket_prefix}/zara_images\"\n",
    "print(zara_images_s3_url)\n",
    "%store zara_images_s3_url"
   ]
  },
  {
   "cell_type": "code",
   "execution_count": 56,
   "id": "c90303fb-2db3-4f4a-98a6-411eb9853bc1",
   "metadata": {
    "tags": []
   },
   "outputs": [
    {
     "name": "stdout",
     "output_type": "stream",
     "text": [
      "Overwriting dataset_loading.py\n"
     ]
    }
   ],
   "source": [
    "%%writefile dataset_loading.py\n",
    "import sys\n",
    "import subprocess\n",
    "import requests\n",
    "import urllib.parse\n",
    "import json\n",
    "\n",
    "subprocess.check_call([\n",
    "    sys.executable, \"-m\", \"pip\", \"install\", \"-r\",\n",
    "    \"/opt/ml/processing/input/requirements.txt\",\n",
    "])\n",
    "\n",
    "from scrapy.http import TextResponse\n",
    "from scrapy import Spider\n",
    "\n",
    "API_KEY = '92744398-93ae-4cbc-ab11-f69bc621ba2e'\n",
    "\n",
    "def get_scrapeops_url(url):\n",
    "    payload = {'api_key': API_KEY, 'url': url}\n",
    "    proxy_url = 'https://proxy.scrapeops.io/v1/?' + urllib.parse.urlencode(payload)\n",
    "    return proxy_url\n",
    "\n",
    "page = 1\n",
    "\n",
    "while True:\n",
    "  url = 'https://www.zara.com/es/es/mujer-camisas-l1217.html?v1=2184370&page='+str(page)\n",
    "  r = requests.get(get_scrapeops_url(url))\n",
    "  resp = TextResponse(body=r.content, url=url)\n",
    "  data = resp.css(\"script[type='application/ld+json']::text\").get()\n",
    "  elements = json.loads(data)['itemListElement']\n",
    "\n",
    "  for idx, item in enumerate(elements):\n",
    "        \n",
    "    if page == 6 and idx == 8:\n",
    "      continue\n",
    "        \n",
    "    image_name = item['name']\n",
    "    image_url = item['image']\n",
    "    try:\n",
    "      img_data = requests.get(image_url).content\n",
    "      img_name = '/opt/ml/processing/output/'+'page_'+str(page)+'_idx_'+str(idx)+'_name_'+image_name+'.jpg'\n",
    "      with open(img_name, 'wb') as handler:\n",
    "        handler.write(img_data)\n",
    "    except:\n",
    "      print(image_url)\n",
    "  if len(elements) > 0:\n",
    "    page += 1\n",
    "  else:\n",
    "    break"
   ]
  },
  {
   "cell_type": "code",
   "execution_count": 19,
   "id": "a1bf0934-6fe2-466c-b7be-7482358125ef",
   "metadata": {
    "tags": []
   },
   "outputs": [
    {
     "name": "stdout",
     "output_type": "stream",
     "text": [
      "Stored 'input_s3_url' (str)\n"
     ]
    }
   ],
   "source": [
    "input_s3_url = session.upload_data(\n",
    "    path=\"requirements.txt\",\n",
    "    bucket=bucket_name,\n",
    "    key_prefix=f\"{bucket_prefix}/input\"\n",
    ")\n",
    "\n",
    "%store input_s3_url"
   ]
  },
  {
   "cell_type": "code",
   "execution_count": 54,
   "id": "4baf5ae2-9d9f-434a-8596-80bccf0e4d46",
   "metadata": {
    "tags": []
   },
   "outputs": [
    {
     "name": "stdout",
     "output_type": "stream",
     "text": [
      "2023-06-20 10:20:02          6 loading_dataset/input/requirements.txt\n"
     ]
    }
   ],
   "source": [
    "!aws s3 ls {bucket_name}/{bucket_prefix} --recursive"
   ]
  },
  {
   "cell_type": "code",
   "execution_count": 21,
   "id": "5aa2818a-301b-4b86-bd6c-6f31a701c1e4",
   "metadata": {
    "tags": []
   },
   "outputs": [
    {
     "name": "stdout",
     "output_type": "stream",
     "text": [
      "s3://sagemaker-zara-blouses-generation/loading_dataset/input/requirements.txt\n"
     ]
    }
   ],
   "source": [
    "print(input_s3_url)"
   ]
  },
  {
   "cell_type": "code",
   "execution_count": 55,
   "id": "7ad83581-762a-46cd-b375-44228b49e976",
   "metadata": {
    "tags": []
   },
   "outputs": [],
   "source": [
    "from sagemaker.processing import ProcessingInput, ProcessingOutput\n",
    "\n",
    "processing_inputs = [\n",
    "    ProcessingInput(source=input_s3_url, destination=\"/opt/ml/processing/input\"),\n",
    "]\n",
    "\n",
    "processing_outputs = [\n",
    "        ProcessingOutput( \n",
    "            source=\"/opt/ml/processing/output\",\n",
    "            destination=zara_images_s3_url,\n",
    "        ),\n",
    "    ]"
   ]
  },
  {
   "cell_type": "code",
   "execution_count": 23,
   "id": "4177dabb-5720-41df-a937-dfa4e9eb0326",
   "metadata": {
    "tags": []
   },
   "outputs": [],
   "source": [
    "from sagemaker.sklearn.processing import SKLearnProcessor\n",
    "sklearn_processor = SKLearnProcessor(\n",
    "    framework_version=framework_version,\n",
    "    role=sm_role,\n",
    "    instance_type=processing_instance_type,\n",
    "    instance_count=processing_instance_count, \n",
    "    base_job_name='loading-dataset',\n",
    "    sagemaker_session=session,\n",
    ")"
   ]
  },
  {
   "cell_type": "code",
   "execution_count": 24,
   "id": "8ddada49-ccb3-408f-bd11-7b8104047e03",
   "metadata": {
    "tags": []
   },
   "outputs": [],
   "source": [
    "from time import gmtime, strftime, sleep\n",
    "from sagemaker.experiments.run import Run, load_run\n",
    "experiment_name = f\"loading-dataset-{strftime('%d-%H-%M-%S', gmtime())}\"\n",
    "run_suffix = strftime('%Y-%m-%M-%S', gmtime())\n",
    "run_name = f\"container-processing-{run_suffix}\"\n",
    "\n",
    "with Run(experiment_name=experiment_name,\n",
    "         run_name=run_name,\n",
    "         run_display_name=\"container-processing\",\n",
    "         sagemaker_session=session\n",
    "        ) as run:\n",
    "    run.log_parameters(\n",
    "        {}\n",
    "    )\n",
    "   \n",
    "    experiment_config = run.experiment_config"
   ]
  },
  {
   "cell_type": "code",
   "execution_count": 57,
   "id": "f0b7e007-41b8-4f4e-9975-fabf9513c602",
   "metadata": {
    "collapsed": true,
    "jupyter": {
     "outputs_hidden": true
    },
    "tags": []
   },
   "outputs": [
    {
     "name": "stdout",
     "output_type": "stream",
     "text": [
      "..........................\u001b[34mCollecting scrapy\n",
      "  Downloading Scrapy-2.9.0-py2.py3-none-any.whl (277 kB)\n",
      "     ━━━━━━━━━━━━━━━━━━━━━━━━━━━━━━━━━━━━━━ 277.2/277.2 kB 25.9 MB/s eta 0:00:00\u001b[0m\n",
      "\u001b[34mCollecting itemloaders>=1.0.1\n",
      "  Downloading itemloaders-1.1.0-py3-none-any.whl (11 kB)\u001b[0m\n",
      "\u001b[34mCollecting parsel>=1.5.0\n",
      "  Downloading parsel-1.8.1-py2.py3-none-any.whl (17 kB)\u001b[0m\n",
      "\u001b[34mRequirement already satisfied: cryptography>=3.4.6 in /miniconda3/lib/python3.7/site-packages (from scrapy->-r /opt/ml/processing/input/requirements.txt (line 1)) (35.0.0)\u001b[0m\n",
      "\u001b[34mCollecting itemadapter>=0.1.0\n",
      "  Downloading itemadapter-0.8.0-py3-none-any.whl (11 kB)\u001b[0m\n",
      "\u001b[34mCollecting service-identity>=18.1.0\n",
      "  Downloading service_identity-21.1.0-py2.py3-none-any.whl (12 kB)\u001b[0m\n",
      "\u001b[34mRequirement already satisfied: setuptools in /miniconda3/lib/python3.7/site-packages (from scrapy->-r /opt/ml/processing/input/requirements.txt (line 1)) (65.6.3)\u001b[0m\n",
      "\u001b[34mCollecting queuelib>=1.4.2\n",
      "  Downloading queuelib-1.6.2-py2.py3-none-any.whl (13 kB)\u001b[0m\n",
      "\u001b[34mCollecting lxml>=4.3.0\n",
      "  Downloading lxml-4.9.2-cp37-cp37m-manylinux_2_17_x86_64.manylinux2014_x86_64.manylinux_2_24_x86_64.whl (6.6 MB)\n",
      "     ━━━━━━━━━━━━━━━━━━━━━━━━━━━━━━━━━━━━━━━━ 6.6/6.6 MB 96.9 MB/s eta 0:00:00\u001b[0m\n",
      "\u001b[34mCollecting cssselect>=0.9.1\n",
      "  Downloading cssselect-1.2.0-py2.py3-none-any.whl (18 kB)\u001b[0m\n",
      "\u001b[34mCollecting packaging\n",
      "  Downloading packaging-23.1-py3-none-any.whl (48 kB)\n",
      "     ━━━━━━━━━━━━━━━━━━━━━━━━━━━━━━━━━━━━━━━━ 48.9/48.9 kB 12.1 MB/s eta 0:00:00\u001b[0m\n",
      "\u001b[34mRequirement already satisfied: pyOpenSSL>=21.0.0 in /miniconda3/lib/python3.7/site-packages (from scrapy->-r /opt/ml/processing/input/requirements.txt (line 1)) (22.0.0)\u001b[0m\n",
      "\u001b[34mCollecting tldextract\n",
      "  Downloading tldextract-3.4.4-py3-none-any.whl (93 kB)\n",
      "     ━━━━━━━━━━━━━━━━━━━━━━━━━━━━━━━━━━━━━━━━ 93.3/93.3 kB 23.4 MB/s eta 0:00:00\u001b[0m\n",
      "\u001b[34mCollecting protego>=0.1.15\n",
      "  Downloading Protego-0.2.1-py2.py3-none-any.whl (8.2 kB)\u001b[0m\n",
      "\u001b[34mRequirement already satisfied: zope.interface>=5.1.0 in /miniconda3/lib/python3.7/site-packages (from scrapy->-r /opt/ml/processing/input/requirements.txt (line 1)) (5.5.2)\u001b[0m\n",
      "\u001b[34mCollecting Twisted>=18.9.0\n",
      "  Downloading Twisted-22.10.0-py3-none-any.whl (3.1 MB)\n",
      "     ━━━━━━━━━━━━━━━━━━━━━━━━━━━━━━━━━━━━━━━━ 3.1/3.1 MB 87.9 MB/s eta 0:00:00\u001b[0m\n",
      "\u001b[34mCollecting PyDispatcher>=2.0.5\n",
      "  Downloading PyDispatcher-2.0.7-py3-none-any.whl (12 kB)\u001b[0m\n",
      "\u001b[34mCollecting w3lib>=1.17.0\n",
      "  Downloading w3lib-2.1.1-py3-none-any.whl (21 kB)\u001b[0m\n",
      "\u001b[34mRequirement already satisfied: cffi>=1.12 in /miniconda3/lib/python3.7/site-packages (from cryptography>=3.4.6->scrapy->-r /opt/ml/processing/input/requirements.txt (line 1)) (1.15.1)\u001b[0m\n",
      "\u001b[34mRequirement already satisfied: jmespath>=0.9.5 in /miniconda3/lib/python3.7/site-packages (from itemloaders>=1.0.1->scrapy->-r /opt/ml/processing/input/requirements.txt (line 1)) (1.0.1)\u001b[0m\n",
      "\u001b[34mRequirement already satisfied: typing-extensions in /miniconda3/lib/python3.7/site-packages (from parsel>=1.5.0->scrapy->-r /opt/ml/processing/input/requirements.txt (line 1)) (4.4.0)\u001b[0m\n",
      "\u001b[34mRequirement already satisfied: six in /miniconda3/lib/python3.7/site-packages (from protego>=0.1.15->scrapy->-r /opt/ml/processing/input/requirements.txt (line 1)) (1.15.0)\u001b[0m\n",
      "\u001b[34mCollecting pyasn1-modules\n",
      "  Downloading pyasn1_modules-0.3.0-py2.py3-none-any.whl (181 kB)\n",
      "     ━━━━━━━━━━━━━━━━━━━━━━━━━━━━━━━━━━━━━━ 181.3/181.3 kB 35.0 MB/s eta 0:00:00\u001b[0m\n",
      "\u001b[34mCollecting pyasn1\n",
      "  Downloading pyasn1-0.5.0-py2.py3-none-any.whl (83 kB)\n",
      "     ━━━━━━━━━━━━━━━━━━━━━━━━━━━━━━━━━━━━━━━━ 83.9/83.9 kB 19.9 MB/s eta 0:00:00\u001b[0m\n",
      "\u001b[34mCollecting attrs>=19.1.0\n",
      "  Downloading attrs-23.1.0-py3-none-any.whl (61 kB)\n",
      "     ━━━━━━━━━━━━━━━━━━━━━━━━━━━━━━━━━━━━━━━━ 61.2/61.2 kB 14.3 MB/s eta 0:00:00\u001b[0m\n",
      "\u001b[34mCollecting hyperlink>=17.1.1\n",
      "  Downloading hyperlink-21.0.0-py2.py3-none-any.whl (74 kB)\n",
      "     ━━━━━━━━━━━━━━━━━━━━━━━━━━━━━━━━━━━━━━━━ 74.6/74.6 kB 19.0 MB/s eta 0:00:00\u001b[0m\n",
      "\u001b[34mCollecting Automat>=0.8.0\n",
      "  Downloading Automat-22.10.0-py2.py3-none-any.whl (26 kB)\u001b[0m\n",
      "\u001b[34mCollecting incremental>=21.3.0\n",
      "  Downloading incremental-22.10.0-py2.py3-none-any.whl (16 kB)\u001b[0m\n",
      "\u001b[34mCollecting constantly>=15.1\n",
      "  Downloading constantly-15.1.0-py2.py3-none-any.whl (7.9 kB)\u001b[0m\n",
      "\u001b[34mRequirement already satisfied: requests>=2.1.0 in /miniconda3/lib/python3.7/site-packages (from tldextract->scrapy->-r /opt/ml/processing/input/requirements.txt (line 1)) (2.28.1)\u001b[0m\n",
      "\u001b[34mRequirement already satisfied: idna in /miniconda3/lib/python3.7/site-packages (from tldextract->scrapy->-r /opt/ml/processing/input/requirements.txt (line 1)) (3.4)\u001b[0m\n",
      "\u001b[34mCollecting filelock>=3.0.8\n",
      "  Downloading filelock-3.12.2-py3-none-any.whl (10 kB)\u001b[0m\n",
      "\u001b[34mCollecting requests-file>=1.4\n",
      "  Downloading requests_file-1.5.1-py2.py3-none-any.whl (3.7 kB)\u001b[0m\n",
      "\u001b[34mRequirement already satisfied: importlib-metadata in /miniconda3/lib/python3.7/site-packages (from attrs>=19.1.0->service-identity>=18.1.0->scrapy->-r /opt/ml/processing/input/requirements.txt (line 1)) (6.0.0)\u001b[0m\n",
      "\u001b[34mRequirement already satisfied: pycparser in /miniconda3/lib/python3.7/site-packages (from cffi>=1.12->cryptography>=3.4.6->scrapy->-r /opt/ml/processing/input/requirements.txt (line 1)) (2.21)\u001b[0m\n",
      "\u001b[34mRequirement already satisfied: certifi>=2017.4.17 in /miniconda3/lib/python3.7/site-packages (from requests>=2.1.0->tldextract->scrapy->-r /opt/ml/processing/input/requirements.txt (line 1)) (2022.12.7)\u001b[0m\n",
      "\u001b[34mRequirement already satisfied: charset-normalizer<3,>=2 in /miniconda3/lib/python3.7/site-packages (from requests>=2.1.0->tldextract->scrapy->-r /opt/ml/processing/input/requirements.txt (line 1)) (2.0.4)\u001b[0m\n",
      "\u001b[34mRequirement already satisfied: urllib3<1.27,>=1.21.1 in /miniconda3/lib/python3.7/site-packages (from requests>=2.1.0->tldextract->scrapy->-r /opt/ml/processing/input/requirements.txt (line 1)) (1.26.14)\u001b[0m\n",
      "\u001b[34mRequirement already satisfied: zipp>=0.5 in /miniconda3/lib/python3.7/site-packages (from importlib-metadata->attrs>=19.1.0->service-identity>=18.1.0->scrapy->-r /opt/ml/processing/input/requirements.txt (line 1)) (3.13.0)\u001b[0m\n",
      "\u001b[34mInstalling collected packages: PyDispatcher, incremental, constantly, w3lib, queuelib, pyasn1, protego, packaging, lxml, itemadapter, hyperlink, filelock, cssselect, requests-file, pyasn1-modules, parsel, attrs, tldextract, service-identity, itemloaders, Automat, Twisted, scrapy\u001b[0m\n",
      "\u001b[34mSuccessfully installed Automat-22.10.0 PyDispatcher-2.0.7 Twisted-22.10.0 attrs-23.1.0 constantly-15.1.0 cssselect-1.2.0 filelock-3.12.2 hyperlink-21.0.0 incremental-22.10.0 itemadapter-0.8.0 itemloaders-1.1.0 lxml-4.9.2 packaging-23.1 parsel-1.8.1 protego-0.2.1 pyasn1-0.5.0 pyasn1-modules-0.3.0 queuelib-1.6.2 requests-file-1.5.1 scrapy-2.9.0 service-identity-21.1.0 tldextract-3.4.4 w3lib-2.1.1\u001b[0m\n",
      "\u001b[34mWARNING: Running pip as the 'root' user can result in broken permissions and conflicting behaviour with the system package manager. It is recommended to use a virtual environment instead: https://pip.pypa.io/warnings/venv\u001b[0m\n",
      "\u001b[34m[notice] A new release of pip is available: 23.0 -> 23.1.2\u001b[0m\n",
      "\u001b[34m[notice] To update, run: pip install --upgrade pip\u001b[0m\n",
      "\n",
      "\u001b[34mTraceback (most recent call last):\n",
      "  File \"/opt/ml/processing/input/code/dataset_loading.py\", line 29, in <module>\n",
      "    elements = json.loads(data)['itemListElement']\n",
      "  File \"/miniconda3/lib/python3.7/json/__init__.py\", line 341, in loads\n",
      "    raise TypeError(f'the JSON object must be str, bytes or bytearray, '\u001b[0m\n",
      "\u001b[34mTypeError: the JSON object must be str, bytes or bytearray, not NoneType\u001b[0m\n"
     ]
    },
    {
     "ename": "UnexpectedStatusException",
     "evalue": "Error for Processing job loading-dataset-2023-06-20-11-23-54-240: Failed. Reason: AlgorithmError: See job logs for more information",
     "output_type": "error",
     "traceback": [
      "\u001b[0;31m---------------------------------------------------------------------------\u001b[0m",
      "\u001b[0;31mUnexpectedStatusException\u001b[0m                 Traceback (most recent call last)",
      "\u001b[0;32m<ipython-input-57-ab4547287554>\u001b[0m in \u001b[0;36m<module>\u001b[0;34m\u001b[0m\n\u001b[1;32m      6\u001b[0m         \u001b[0mcode\u001b[0m\u001b[0;34m=\u001b[0m\u001b[0;34m'dataset_loading.py'\u001b[0m\u001b[0;34m,\u001b[0m\u001b[0;34m\u001b[0m\u001b[0;34m\u001b[0m\u001b[0m\n\u001b[1;32m      7\u001b[0m         \u001b[0mwait\u001b[0m\u001b[0;34m=\u001b[0m\u001b[0;32mTrue\u001b[0m\u001b[0;34m,\u001b[0m\u001b[0;34m\u001b[0m\u001b[0;34m\u001b[0m\u001b[0m\n\u001b[0;32m----> 8\u001b[0;31m         \u001b[0mexperiment_config\u001b[0m\u001b[0;34m=\u001b[0m\u001b[0mexperiment_config\u001b[0m\u001b[0;34m,\u001b[0m\u001b[0;34m\u001b[0m\u001b[0;34m\u001b[0m\u001b[0m\n\u001b[0m\u001b[1;32m      9\u001b[0m         \u001b[0;31m# arguments = ['arg1', 'arg2'],\u001b[0m\u001b[0;34m\u001b[0m\u001b[0;34m\u001b[0m\u001b[0;34m\u001b[0m\u001b[0m\n\u001b[1;32m     10\u001b[0m     )\n",
      "\u001b[0;32m/opt/conda/lib/python3.7/site-packages/sagemaker/workflow/pipeline_context.py\u001b[0m in \u001b[0;36mwrapper\u001b[0;34m(*args, **kwargs)\u001b[0m\n\u001b[1;32m    298\u001b[0m             \u001b[0;32mreturn\u001b[0m \u001b[0m_StepArguments\u001b[0m\u001b[0;34m(\u001b[0m\u001b[0mretrieve_caller_name\u001b[0m\u001b[0;34m(\u001b[0m\u001b[0mself_instance\u001b[0m\u001b[0;34m)\u001b[0m\u001b[0;34m,\u001b[0m \u001b[0mrun_func\u001b[0m\u001b[0;34m,\u001b[0m \u001b[0;34m*\u001b[0m\u001b[0margs\u001b[0m\u001b[0;34m,\u001b[0m \u001b[0;34m**\u001b[0m\u001b[0mkwargs\u001b[0m\u001b[0;34m)\u001b[0m\u001b[0;34m\u001b[0m\u001b[0;34m\u001b[0m\u001b[0m\n\u001b[1;32m    299\u001b[0m \u001b[0;34m\u001b[0m\u001b[0m\n\u001b[0;32m--> 300\u001b[0;31m         \u001b[0;32mreturn\u001b[0m \u001b[0mrun_func\u001b[0m\u001b[0;34m(\u001b[0m\u001b[0;34m*\u001b[0m\u001b[0margs\u001b[0m\u001b[0;34m,\u001b[0m \u001b[0;34m**\u001b[0m\u001b[0mkwargs\u001b[0m\u001b[0;34m)\u001b[0m\u001b[0;34m\u001b[0m\u001b[0;34m\u001b[0m\u001b[0m\n\u001b[0m\u001b[1;32m    301\u001b[0m \u001b[0;34m\u001b[0m\u001b[0m\n\u001b[1;32m    302\u001b[0m     \u001b[0;32mreturn\u001b[0m \u001b[0mwrapper\u001b[0m\u001b[0;34m\u001b[0m\u001b[0;34m\u001b[0m\u001b[0m\n",
      "\u001b[0;32m/opt/conda/lib/python3.7/site-packages/sagemaker/processing.py\u001b[0m in \u001b[0;36mrun\u001b[0;34m(self, code, inputs, outputs, arguments, wait, logs, job_name, experiment_config, kms_key)\u001b[0m\n\u001b[1;32m    686\u001b[0m         \u001b[0mself\u001b[0m\u001b[0;34m.\u001b[0m\u001b[0mjobs\u001b[0m\u001b[0;34m.\u001b[0m\u001b[0mappend\u001b[0m\u001b[0;34m(\u001b[0m\u001b[0mself\u001b[0m\u001b[0;34m.\u001b[0m\u001b[0mlatest_job\u001b[0m\u001b[0;34m)\u001b[0m\u001b[0;34m\u001b[0m\u001b[0;34m\u001b[0m\u001b[0m\n\u001b[1;32m    687\u001b[0m         \u001b[0;32mif\u001b[0m \u001b[0mwait\u001b[0m\u001b[0;34m:\u001b[0m\u001b[0;34m\u001b[0m\u001b[0;34m\u001b[0m\u001b[0m\n\u001b[0;32m--> 688\u001b[0;31m             \u001b[0mself\u001b[0m\u001b[0;34m.\u001b[0m\u001b[0mlatest_job\u001b[0m\u001b[0;34m.\u001b[0m\u001b[0mwait\u001b[0m\u001b[0;34m(\u001b[0m\u001b[0mlogs\u001b[0m\u001b[0;34m=\u001b[0m\u001b[0mlogs\u001b[0m\u001b[0;34m)\u001b[0m\u001b[0;34m\u001b[0m\u001b[0;34m\u001b[0m\u001b[0m\n\u001b[0m\u001b[1;32m    689\u001b[0m \u001b[0;34m\u001b[0m\u001b[0m\n\u001b[1;32m    690\u001b[0m     \u001b[0;32mdef\u001b[0m \u001b[0m_include_code_in_inputs\u001b[0m\u001b[0;34m(\u001b[0m\u001b[0mself\u001b[0m\u001b[0;34m,\u001b[0m \u001b[0minputs\u001b[0m\u001b[0;34m,\u001b[0m \u001b[0mcode\u001b[0m\u001b[0;34m,\u001b[0m \u001b[0mkms_key\u001b[0m\u001b[0;34m=\u001b[0m\u001b[0;32mNone\u001b[0m\u001b[0;34m)\u001b[0m\u001b[0;34m:\u001b[0m\u001b[0;34m\u001b[0m\u001b[0;34m\u001b[0m\u001b[0m\n",
      "\u001b[0;32m/opt/conda/lib/python3.7/site-packages/sagemaker/processing.py\u001b[0m in \u001b[0;36mwait\u001b[0;34m(self, logs)\u001b[0m\n\u001b[1;32m   1111\u001b[0m         \"\"\"\n\u001b[1;32m   1112\u001b[0m         \u001b[0;32mif\u001b[0m \u001b[0mlogs\u001b[0m\u001b[0;34m:\u001b[0m\u001b[0;34m\u001b[0m\u001b[0;34m\u001b[0m\u001b[0m\n\u001b[0;32m-> 1113\u001b[0;31m             \u001b[0mself\u001b[0m\u001b[0;34m.\u001b[0m\u001b[0msagemaker_session\u001b[0m\u001b[0;34m.\u001b[0m\u001b[0mlogs_for_processing_job\u001b[0m\u001b[0;34m(\u001b[0m\u001b[0mself\u001b[0m\u001b[0;34m.\u001b[0m\u001b[0mjob_name\u001b[0m\u001b[0;34m,\u001b[0m \u001b[0mwait\u001b[0m\u001b[0;34m=\u001b[0m\u001b[0;32mTrue\u001b[0m\u001b[0;34m)\u001b[0m\u001b[0;34m\u001b[0m\u001b[0;34m\u001b[0m\u001b[0m\n\u001b[0m\u001b[1;32m   1114\u001b[0m         \u001b[0;32melse\u001b[0m\u001b[0;34m:\u001b[0m\u001b[0;34m\u001b[0m\u001b[0;34m\u001b[0m\u001b[0m\n\u001b[1;32m   1115\u001b[0m             \u001b[0mself\u001b[0m\u001b[0;34m.\u001b[0m\u001b[0msagemaker_session\u001b[0m\u001b[0;34m.\u001b[0m\u001b[0mwait_for_processing_job\u001b[0m\u001b[0;34m(\u001b[0m\u001b[0mself\u001b[0m\u001b[0;34m.\u001b[0m\u001b[0mjob_name\u001b[0m\u001b[0;34m)\u001b[0m\u001b[0;34m\u001b[0m\u001b[0;34m\u001b[0m\u001b[0m\n",
      "\u001b[0;32m/opt/conda/lib/python3.7/site-packages/sagemaker/session.py\u001b[0m in \u001b[0;36mlogs_for_processing_job\u001b[0;34m(self, job_name, wait, poll)\u001b[0m\n\u001b[1;32m   4860\u001b[0m \u001b[0;34m\u001b[0m\u001b[0m\n\u001b[1;32m   4861\u001b[0m         \u001b[0;32mif\u001b[0m \u001b[0mwait\u001b[0m\u001b[0;34m:\u001b[0m\u001b[0;34m\u001b[0m\u001b[0;34m\u001b[0m\u001b[0m\n\u001b[0;32m-> 4862\u001b[0;31m             \u001b[0m_check_job_status\u001b[0m\u001b[0;34m(\u001b[0m\u001b[0mjob_name\u001b[0m\u001b[0;34m,\u001b[0m \u001b[0mdescription\u001b[0m\u001b[0;34m,\u001b[0m \u001b[0;34m\"ProcessingJobStatus\"\u001b[0m\u001b[0;34m)\u001b[0m\u001b[0;34m\u001b[0m\u001b[0;34m\u001b[0m\u001b[0m\n\u001b[0m\u001b[1;32m   4863\u001b[0m             \u001b[0;32mif\u001b[0m \u001b[0mdot\u001b[0m\u001b[0;34m:\u001b[0m\u001b[0;34m\u001b[0m\u001b[0;34m\u001b[0m\u001b[0m\n\u001b[1;32m   4864\u001b[0m                 \u001b[0mprint\u001b[0m\u001b[0;34m(\u001b[0m\u001b[0;34m)\u001b[0m\u001b[0;34m\u001b[0m\u001b[0;34m\u001b[0m\u001b[0m\n",
      "\u001b[0;32m/opt/conda/lib/python3.7/site-packages/sagemaker/session.py\u001b[0m in \u001b[0;36m_check_job_status\u001b[0;34m(job, desc, status_key_name)\u001b[0m\n\u001b[1;32m   6709\u001b[0m             \u001b[0mmessage\u001b[0m\u001b[0;34m=\u001b[0m\u001b[0mmessage\u001b[0m\u001b[0;34m,\u001b[0m\u001b[0;34m\u001b[0m\u001b[0;34m\u001b[0m\u001b[0m\n\u001b[1;32m   6710\u001b[0m             \u001b[0mallowed_statuses\u001b[0m\u001b[0;34m=\u001b[0m\u001b[0;34m[\u001b[0m\u001b[0;34m\"Completed\"\u001b[0m\u001b[0;34m,\u001b[0m \u001b[0;34m\"Stopped\"\u001b[0m\u001b[0;34m]\u001b[0m\u001b[0;34m,\u001b[0m\u001b[0;34m\u001b[0m\u001b[0;34m\u001b[0m\u001b[0m\n\u001b[0;32m-> 6711\u001b[0;31m             \u001b[0mactual_status\u001b[0m\u001b[0;34m=\u001b[0m\u001b[0mstatus\u001b[0m\u001b[0;34m,\u001b[0m\u001b[0;34m\u001b[0m\u001b[0;34m\u001b[0m\u001b[0m\n\u001b[0m\u001b[1;32m   6712\u001b[0m         )\n\u001b[1;32m   6713\u001b[0m \u001b[0;34m\u001b[0m\u001b[0m\n",
      "\u001b[0;31mUnexpectedStatusException\u001b[0m: Error for Processing job loading-dataset-2023-06-20-11-23-54-240: Failed. Reason: AlgorithmError: See job logs for more information"
     ]
    }
   ],
   "source": [
    "\n",
    "import botocore\n",
    "try:\n",
    "    sklearn_processor.run(\n",
    "        inputs=processing_inputs,\n",
    "        outputs=processing_outputs,\n",
    "        code='dataset_loading.py',\n",
    "        wait=True,\n",
    "        experiment_config=experiment_config,\n",
    "        # arguments = ['arg1', 'arg2'],\n",
    "    )\n",
    "except botocore.exceptions.ClientError as e:\n",
    "    if e.response['Error']['Code'] == 'AccessDeniedException':\n",
    "        print(f\"Ignore AccessDeniedException: {e.response['Error']['Message']} because of the slow resource tag auto propagation\")\n",
    "    else:\n",
    "        raise e"
   ]
  },
  {
   "cell_type": "code",
   "execution_count": 48,
   "id": "96d53a96-1502-4ab3-be98-635cfd426ccf",
   "metadata": {
    "collapsed": true,
    "jupyter": {
     "outputs_hidden": true
    },
    "tags": []
   },
   "outputs": [
    {
     "name": "stdout",
     "output_type": "stream",
     "text": [
      "delete: s3://sagemaker-zara-blouses-generation/loading_dataset/zara_images/page_1_idx_2_name_BLUSA LARGA BORDADA.jpg\n",
      "delete: s3://sagemaker-zara-blouses-generation/loading_dataset/zara_images/page_1_idx_1_name_BLUSA ALGODÓN BORDADOS.jpg\n",
      "delete: s3://sagemaker-zara-blouses-generation/loading_dataset/zara_images/page_1_idx_3_name_BLUSA LINO.jpg\n",
      "delete: s3://sagemaker-zara-blouses-generation/loading_dataset/zara_images/page_1_idx_4_name_CAMISA 100% LINO.jpg\n",
      "delete: s3://sagemaker-zara-blouses-generation/loading_dataset/zara_images/page_1_idx_0_name_CAMISA SATINADA VOLANTES..jpg\n",
      "delete: s3://sagemaker-zara-blouses-generation/loading_dataset/zara_images/page_1_idx_7_name_CAMISA LINO BAJO ASIMÉTRICO.jpg\n",
      "delete: s3://sagemaker-zara-blouses-generation/loading_dataset/zara_images/page_2_idx_5_name_CAMISA SATINADA.jpg\n",
      "delete: s3://sagemaker-zara-blouses-generation/loading_dataset/zara_images/page_2_idx_0_name_CAMISA LINO ASIMÉTRICA.jpg\n",
      "delete: s3://sagemaker-zara-blouses-generation/loading_dataset/zara_images/page_2_idx_8_name_CAMISA ESTAMPADO ANIMAL.jpg\n",
      "delete: s3://sagemaker-zara-blouses-generation/loading_dataset/zara_images/page_2_idx_7_name_BLUSA ALGODÓN HILO METALIZADO.jpg\n",
      "delete: s3://sagemaker-zara-blouses-generation/loading_dataset/zara_images/page_1_idx_6_name_CAMISA SATINADA VOLANTES..jpg\n",
      "delete: s3://sagemaker-zara-blouses-generation/loading_dataset/zara_images/page_2_idx_9_name_CAMISA RAYAS CON LINO.jpg\n",
      "delete: s3://sagemaker-zara-blouses-generation/loading_dataset/zara_images/page_3_idx_1_name_CAMISA BLAZER CINTURÓN.jpg\n",
      "delete: s3://sagemaker-zara-blouses-generation/loading_dataset/zara_images/page_3_idx_1_name_CAMISA LINO NUDO.jpg\n",
      "delete: s3://sagemaker-zara-blouses-generation/loading_dataset/zara_images/page_3_idx_0_name_CAMISA LINO NUDO.jpg\n",
      "delete: s3://sagemaker-zara-blouses-generation/loading_dataset/zara_images/page_3_idx_0_name_CAMISA CROPPED NUDO.jpg\n",
      "delete: s3://sagemaker-zara-blouses-generation/loading_dataset/zara_images/page_3_idx_2_name_CAMISA BLAZER CINTURÓN.jpg\n",
      "delete: s3://sagemaker-zara-blouses-generation/loading_dataset/zara_images/page_1_idx_5_name_BLUSA ESTAMPADA BRILLO.jpg\n",
      "delete: s3://sagemaker-zara-blouses-generation/loading_dataset/zara_images/page_3_idx_3_name_BLUSA PLUMETI.jpg\n",
      "delete: s3://sagemaker-zara-blouses-generation/loading_dataset/zara_images/page_3_idx_3_name_CAMISA CROP BOLSILLO.jpg\n",
      "delete: s3://sagemaker-zara-blouses-generation/loading_dataset/zara_images/page_3_idx_2_name_BLUSA PLUMETI.jpg\n",
      "delete: s3://sagemaker-zara-blouses-generation/loading_dataset/zara_images/page_3_idx_4_name_CAMISA CROP BOLSILLO.jpg\n",
      "delete: s3://sagemaker-zara-blouses-generation/loading_dataset/zara_images/page_2_idx_3_name_BLUSA SEMITRANSPARENTE VOLANTES.jpg\n",
      "delete: s3://sagemaker-zara-blouses-generation/loading_dataset/zara_images/page_1_idx_8_name_BLUSA BORDADOS PERFORADOS.jpg\n",
      "delete: s3://sagemaker-zara-blouses-generation/loading_dataset/zara_images/page_3_idx_4_name_CAMISA ESTAMPADO FLORAL.jpg\n",
      "delete: s3://sagemaker-zara-blouses-generation/loading_dataset/zara_images/page_3_idx_5_name_CAMISA MANGA REMANGADA CON LINO.jpg\n",
      "delete: s3://sagemaker-zara-blouses-generation/loading_dataset/zara_images/page_3_idx_6_name_CAMISA JOYAS.jpg\n",
      "delete: s3://sagemaker-zara-blouses-generation/loading_dataset/zara_images/page_3_idx_5_name_CAMISA ESTAMPADO FLORAL.jpg\n",
      "delete: s3://sagemaker-zara-blouses-generation/loading_dataset/zara_images/page_2_idx_2_name_CAMISA RAMIO ESTAMPADA LIMITED EDITION.jpg\n",
      "delete: s3://sagemaker-zara-blouses-generation/loading_dataset/zara_images/page_3_idx_6_name_CAMISA MANGA REMANGADA CON LINO.jpg\n",
      "delete: s3://sagemaker-zara-blouses-generation/loading_dataset/zara_images/page_1_idx_9_name_BLUSA CAPA ASIMÉTRICA.jpg\n",
      "delete: s3://sagemaker-zara-blouses-generation/loading_dataset/zara_images/page_3_idx_7_name_MLTR SHRT 10.jpg\n",
      "delete: s3://sagemaker-zara-blouses-generation/loading_dataset/zara_images/page_3_idx_8_name_MLTR SHRT 10.jpg\n",
      "delete: s3://sagemaker-zara-blouses-generation/loading_dataset/zara_images/page_3_idx_8_name_CAMISA RAMIO TIE DYE.jpg\n",
      "delete: s3://sagemaker-zara-blouses-generation/loading_dataset/zara_images/page_3_idx_9_name_ZW CAMISA DENIM BOLSILLOS.jpg\n",
      "delete: s3://sagemaker-zara-blouses-generation/loading_dataset/zara_images/page_3_idx_9_name_CAMISA RAMIO TIE DYE.jpg\n",
      "delete: s3://sagemaker-zara-blouses-generation/loading_dataset/zara_images/page_4_idx_0_name_CAMISA LINO NUDO.jpg\n",
      "delete: s3://sagemaker-zara-blouses-generation/loading_dataset/zara_images/page_4_idx_1_name_CAMISA OVERSIZE RAYAS.jpg\n",
      "delete: s3://sagemaker-zara-blouses-generation/loading_dataset/zara_images/page_4_idx_0_name_CAMISA LINO ESPALDA DESCUBIERTA.jpg\n",
      "delete: s3://sagemaker-zara-blouses-generation/loading_dataset/zara_images/page_4_idx_2_name_CAMISA CROPPED LAZO CINTURA.jpg\n",
      "delete: s3://sagemaker-zara-blouses-generation/loading_dataset/zara_images/page_4_idx_1_name_CAMISA LINO ESPALDA DESCUBIERTA.jpg\n",
      "delete: s3://sagemaker-zara-blouses-generation/loading_dataset/zara_images/page_4_idx_2_name_CAMISA OVERSIZE RAYAS.jpg\n",
      "delete: s3://sagemaker-zara-blouses-generation/loading_dataset/zara_images/page_4_idx_3_name_CAMISA CROPPED LAZO CINTURA.jpg\n",
      "delete: s3://sagemaker-zara-blouses-generation/loading_dataset/zara_images/page_4_idx_3_name_CAMISA ESTAMPADO CADENAS.jpg\n",
      "delete: s3://sagemaker-zara-blouses-generation/loading_dataset/zara_images/page_4_idx_4_name_CAMISA ESTAMPADO CADENAS.jpg\n",
      "delete: s3://sagemaker-zara-blouses-generation/loading_dataset/zara_images/page_4_idx_5_name_CAMISA SATINADA CORDONES.jpg\n",
      "delete: s3://sagemaker-zara-blouses-generation/loading_dataset/zara_images/page_4_idx_4_name_CAMISA CROP POPELÍN.jpg\n",
      "delete: s3://sagemaker-zara-blouses-generation/loading_dataset/zara_images/page_4_idx_6_name_CAMISA SATINADA MANGA CAPA.jpg\n",
      "delete: s3://sagemaker-zara-blouses-generation/loading_dataset/zara_images/page_4_idx_6_name_CAMISA SATINADA CORDONES.jpg\n",
      "delete: s3://sagemaker-zara-blouses-generation/loading_dataset/zara_images/page_4_idx_7_name_CAMISA POPELÍN VOLUMEN.jpg\n",
      "delete: s3://sagemaker-zara-blouses-generation/loading_dataset/zara_images/page_4_idx_8_name_CAMISA LINO ESPALDA DESCUBIERTA.jpg\n",
      "delete: s3://sagemaker-zara-blouses-generation/loading_dataset/zara_images/page_4_idx_7_name_CAMISA LINO ESPALDA DESCUBIERTA.jpg\n",
      "delete: s3://sagemaker-zara-blouses-generation/loading_dataset/zara_images/page_4_idx_9_name_CAMISA OXFORD CON ALGODÓN.jpg\n",
      "delete: s3://sagemaker-zara-blouses-generation/loading_dataset/zara_images/page_4_idx_5_name_CAMISA CROP POPELÍN.jpg\n",
      "delete: s3://sagemaker-zara-blouses-generation/loading_dataset/zara_images/page_4_idx_8_name_CAMISA OVERSIZE RÚSTICA.jpg\n",
      "delete: s3://sagemaker-zara-blouses-generation/loading_dataset/zara_images/page_5_idx_0_name_CAMISA ESTAMPADA VOLANTES.jpg\n",
      "delete: s3://sagemaker-zara-blouses-generation/loading_dataset/zara_images/page_5_idx_1_name_CAMISA OVERSIZE RAYAS.jpg\n",
      "delete: s3://sagemaker-zara-blouses-generation/loading_dataset/zara_images/page_5_idx_0_name_CAMISA POPELÍN RAYAS.jpg\n",
      "delete: s3://sagemaker-zara-blouses-generation/loading_dataset/zara_images/page_4_idx_9_name_CAMISA SATINADA MANGA CAPA.jpg\n",
      "delete: s3://sagemaker-zara-blouses-generation/loading_dataset/zara_images/page_5_idx_2_name_CAMISA SATINADA ESTAMPADO DENIM.jpg\n",
      "delete: s3://sagemaker-zara-blouses-generation/loading_dataset/zara_images/page_5_idx_2_name_BLUSA TEJIDO RÚSTICO.jpg\n",
      "delete: s3://sagemaker-zara-blouses-generation/loading_dataset/zara_images/page_5_idx_4_name_BLUSA COMBINADA VOLANTES.jpg\n",
      "delete: s3://sagemaker-zara-blouses-generation/loading_dataset/zara_images/page_5_idx_4_name_CAMISA OVERSIZE RAYAS.jpg\n",
      "delete: s3://sagemaker-zara-blouses-generation/loading_dataset/zara_images/page_5_idx_3_name_BLUSA ESTAMPADA VOLANTES.jpg\n",
      "delete: s3://sagemaker-zara-blouses-generation/loading_dataset/zara_images/page_5_idx_1_name_CAMISA SEMITRANSPARENTE COMBINADA.jpg\n",
      "delete: s3://sagemaker-zara-blouses-generation/loading_dataset/zara_images/page_5_idx_5_name_CAMISA CROP ESTAMPADA.jpg\n",
      "delete: s3://sagemaker-zara-blouses-generation/loading_dataset/zara_images/page_5_idx_3_name_CAMISA POPELÍN RAYAS.jpg\n",
      "delete: s3://sagemaker-zara-blouses-generation/loading_dataset/zara_images/page_5_idx_5_name_CAMISA SATINADA ESTAMPADO DENIM.jpg\n",
      "delete: s3://sagemaker-zara-blouses-generation/loading_dataset/zara_images/page_2_idx_1_name_CAMISA SATINADA.jpg\n",
      "delete: s3://sagemaker-zara-blouses-generation/loading_dataset/zara_images/page_3_idx_7_name_CAMISA JOYAS.jpg\n",
      "delete: s3://sagemaker-zara-blouses-generation/loading_dataset/zara_images/page_2_idx_4_name_BLUSA CON LINO.jpg\n",
      "delete: s3://sagemaker-zara-blouses-generation/loading_dataset/zara_images/page_5_idx_6_name_BLUSA ESTAMPADA VOLANTES.jpg\n",
      "delete: s3://sagemaker-zara-blouses-generation/loading_dataset/zara_images/page_5_idx_9_name_CAMISA CROPPED.jpg\n",
      "delete: s3://sagemaker-zara-blouses-generation/loading_dataset/zara_images/page_5_idx_9_name_CUERPO SATINADO CORSETERO.jpg\n",
      "delete: s3://sagemaker-zara-blouses-generation/loading_dataset/zara_images/page_5_idx_7_name_BLUSA COMBINADA VOLANTES.jpg\n",
      "delete: s3://sagemaker-zara-blouses-generation/loading_dataset/zara_images/page_5_idx_6_name_CAMISA CROPPED.jpg\n",
      "delete: s3://sagemaker-zara-blouses-generation/loading_dataset/zara_images/page_6_idx_0_name_CAMISA SATINADA.jpg\n",
      "delete: s3://sagemaker-zara-blouses-generation/loading_dataset/zara_images/page_6_idx_1_name_BLUSA VOLANTES.jpg\n",
      "delete: s3://sagemaker-zara-blouses-generation/loading_dataset/zara_images/page_6_idx_0_name_BLUSA SEMITRANSPARENTE VOLANTES.jpg\n",
      "delete: s3://sagemaker-zara-blouses-generation/loading_dataset/zara_images/page_6_idx_2_name_CAMISA SATINADA MANGA ANCHA.jpg\n",
      "delete: s3://sagemaker-zara-blouses-generation/loading_dataset/zara_images/page_6_idx_1_name_CAMISA RAYAS OVERSIZE.jpg\n",
      "delete: s3://sagemaker-zara-blouses-generation/loading_dataset/zara_images/page_6_idx_3_name_CAMISA RAYAS OVERSIZE.jpg\n",
      "delete: s3://sagemaker-zara-blouses-generation/loading_dataset/zara_images/page_6_idx_3_name_CAMISA OVERSIZE POPELÍN.jpg\n",
      "delete: s3://sagemaker-zara-blouses-generation/loading_dataset/zara_images/page_6_idx_4_name_CAMISA CROP BORDADOS PERFORADOS.jpg\n",
      "delete: s3://sagemaker-zara-blouses-generation/loading_dataset/zara_images/page_6_idx_5_name_CAMISA CROP BORDADOS PERFORADOS.jpg\n",
      "delete: s3://sagemaker-zara-blouses-generation/loading_dataset/zara_images/page_6_idx_4_name_CAMISA SATINADA MANGA ANCHA.jpg\n",
      "delete: s3://sagemaker-zara-blouses-generation/loading_dataset/zara_images/page_6_idx_6_name_CAMISA CROP BORDADOS PERFORADOS.jpg\n",
      "delete: s3://sagemaker-zara-blouses-generation/loading_dataset/zara_images/page_6_idx_5_name_CAMISA OVERSIZE POPELÍN.jpg\n",
      "delete: s3://sagemaker-zara-blouses-generation/loading_dataset/zara_images/page_6_idx_2_name_BLUSA SEMITRANSPARENTE VOLANTES.jpg\n",
      "delete: s3://sagemaker-zara-blouses-generation/loading_dataset/zara_images/page_6_idx_6_name_CAMISA ESTAMPADA CADENAS.jpg\n",
      "delete: s3://sagemaker-zara-blouses-generation/loading_dataset/zara_images/page_6_idx_9_name_CAMISA POPELÍN.jpg\n",
      "delete: s3://sagemaker-zara-blouses-generation/loading_dataset/zara_images/page_6_idx_7_name_CAMISA POPELÍN.jpg\n",
      "delete: s3://sagemaker-zara-blouses-generation/loading_dataset/zara_images/page_6_idx_7_name_CAMISA CROP BORDADOS PERFORADOS.jpg\n",
      "delete: s3://sagemaker-zara-blouses-generation/loading_dataset/zara_images/page_7_idx_0_name_CAMISA POPELÍN.jpg\n",
      "delete: s3://sagemaker-zara-blouses-generation/loading_dataset/zara_images/page_6_idx_9_name_ZW CAZADORA CROPPED DENIM.jpg\n",
      "delete: s3://sagemaker-zara-blouses-generation/loading_dataset/zara_images/page_7_idx_1_name_CAMISA SATINADA VOLANTES.jpg\n",
      "delete: s3://sagemaker-zara-blouses-generation/loading_dataset/zara_images/page_7_idx_1_name_CAMISA COMBINADA ESTRUCTURA.jpg\n",
      "delete: s3://sagemaker-zara-blouses-generation/loading_dataset/zara_images/page_7_idx_2_name_BLUSA RAMIO PASAMANERÍA.jpg\n",
      "delete: s3://sagemaker-zara-blouses-generation/loading_dataset/zara_images/page_7_idx_0_name_CAMISA SATINADA VOLANTES.jpg\n",
      "delete: s3://sagemaker-zara-blouses-generation/loading_dataset/zara_images/page_7_idx_3_name_BLUSA FLUIDA SATINADA.jpg\n",
      "delete: s3://sagemaker-zara-blouses-generation/loading_dataset/zara_images/page_7_idx_2_name_CAMISA ESTAMPADO PATCHWORK.jpg\n",
      "delete: s3://sagemaker-zara-blouses-generation/loading_dataset/zara_images/page_7_idx_4_name_BLUSA LINO ABERTURAS.jpg\n",
      "delete: s3://sagemaker-zara-blouses-generation/loading_dataset/zara_images/page_7_idx_4_name_CAMISA ESTAMPADO ANIMAL.jpg\n",
      "delete: s3://sagemaker-zara-blouses-generation/loading_dataset/zara_images/page_7_idx_5_name_CAMISA ESTAMPADO ANIMAL.jpg\n",
      "delete: s3://sagemaker-zara-blouses-generation/loading_dataset/zara_images/page_7_idx_6_name_BLUSA LINO ABERTURAS.jpg\n",
      "delete: s3://sagemaker-zara-blouses-generation/loading_dataset/zara_images/page_7_idx_5_name_CAMISA BORDADOS ALGODÓN.jpg\n",
      "delete: s3://sagemaker-zara-blouses-generation/loading_dataset/zara_images/page_7_idx_3_name_BLUSA RAMIO PASAMANERÍA.jpg\n",
      "delete: s3://sagemaker-zara-blouses-generation/loading_dataset/zara_images/page_7_idx_6_name_BLUSA SATINADA CUELLO POLO.jpg\n",
      "delete: s3://sagemaker-zara-blouses-generation/loading_dataset/zara_images/page_7_idx_7_name_BLUSA ALGODÓN ABALORIOS.jpg\n",
      "delete: s3://sagemaker-zara-blouses-generation/loading_dataset/zara_images/page_7_idx_8_name_CAMISA ESTAMPADO PATCHWORK.jpg\n",
      "delete: s3://sagemaker-zara-blouses-generation/loading_dataset/zara_images/page_7_idx_8_name_CAMISA SATINADA VOLANTES.jpg\n",
      "delete: s3://sagemaker-zara-blouses-generation/loading_dataset/zara_images/page_5_idx_8_name_CAMISA ESTAMPADO ANIMAL.jpg\n",
      "delete: s3://sagemaker-zara-blouses-generation/loading_dataset/zara_images/page_7_idx_9_name_BLUSA RAMIO PASAMANERÍA.jpg\n",
      "delete: s3://sagemaker-zara-blouses-generation/loading_dataset/zara_images/page_2_idx_6_name_CAMISA SEDA LIMITED EDITION.jpg\n",
      "delete: s3://sagemaker-zara-blouses-generation/loading_dataset/zara_images/page_5_idx_8_name_CAMISA CROP ESTAMPADA.jpg\n",
      "delete: s3://sagemaker-zara-blouses-generation/loading_dataset/zara_images/page_7_idx_9_name_BLUSA FLUIDA SATINADA.jpg\n",
      "delete: s3://sagemaker-zara-blouses-generation/loading_dataset/zara_images/page_5_idx_7_name_BLUSA VOLANTES.jpg\n",
      "delete: s3://sagemaker-zara-blouses-generation/loading_dataset/zara_images/page_7_idx_7_name_CAMISA SATINADA VOLANTES.jpg\n"
     ]
    }
   ],
   "source": [
    "# list the uploaded files\n",
    "!aws s3 rm s3://{bucket_name}/{bucket_prefix}/zara_images/ --recursive"
   ]
  },
  {
   "cell_type": "code",
   "execution_count": 59,
   "id": "5dbb172c-a37f-44dd-8b20-e1c06ad027cb",
   "metadata": {
    "tags": []
   },
   "outputs": [
    {
     "name": "stdout",
     "output_type": "stream",
     "text": [
      "2023-06-20 10:20:02          6 loading_dataset/input/requirements.txt\n",
      "2023-06-20 11:30:01        394 loading_dataset/zara_images/page_1_idx_0_name_CAMISA SATINADA VOLANTES..jpg\n",
      "2023-06-20 11:30:01        394 loading_dataset/zara_images/page_1_idx_1_name_BLUSA ALGODÓN BORDADOS.jpg\n",
      "2023-06-20 11:30:01        394 loading_dataset/zara_images/page_1_idx_2_name_BLUSA LARGA BORDADA.jpg\n",
      "2023-06-20 11:30:01        394 loading_dataset/zara_images/page_1_idx_3_name_BLUSA LINO.jpg\n",
      "2023-06-20 11:30:01        395 loading_dataset/zara_images/page_1_idx_4_name_CAMISA 100% LINO.jpg\n",
      "2023-06-20 11:30:01        394 loading_dataset/zara_images/page_1_idx_5_name_BLUSA ESTAMPADA BRILLO.jpg\n",
      "2023-06-20 11:30:01        394 loading_dataset/zara_images/page_1_idx_6_name_CAMISA SATINADA VOLANTES..jpg\n",
      "2023-06-20 11:30:01        394 loading_dataset/zara_images/page_1_idx_7_name_CAMISA LINO BAJO ASIMÉTRICO.jpg\n",
      "2023-06-20 11:30:01        394 loading_dataset/zara_images/page_1_idx_8_name_BLUSA BORDADOS PERFORADOS.jpg\n",
      "2023-06-20 11:30:01        394 loading_dataset/zara_images/page_1_idx_9_name_BLUSA CAPA ASIMÉTRICA.jpg\n",
      "2023-06-20 11:30:02        395 loading_dataset/zara_images/page_2_idx_0_name_CAMISA LINO ASIMÉTRICA.jpg\n",
      "2023-06-20 11:30:02        395 loading_dataset/zara_images/page_2_idx_1_name_CAMISA SATINADA.jpg\n",
      "2023-06-20 11:30:02        394 loading_dataset/zara_images/page_2_idx_2_name_CAMISA RAMIO ESTAMPADA LIMITED EDITION.jpg\n",
      "2023-06-20 11:30:02        394 loading_dataset/zara_images/page_2_idx_3_name_BLUSA SEMITRANSPARENTE VOLANTES.jpg\n",
      "2023-06-20 11:30:02        394 loading_dataset/zara_images/page_2_idx_4_name_BLUSA CON LINO.jpg\n",
      "2023-06-20 11:30:02        395 loading_dataset/zara_images/page_2_idx_5_name_CAMISA SATINADA.jpg\n",
      "2023-06-20 11:30:02        394 loading_dataset/zara_images/page_2_idx_6_name_CAMISA SEDA LIMITED EDITION.jpg\n",
      "2023-06-20 11:30:02        394 loading_dataset/zara_images/page_2_idx_7_name_BLUSA ALGODÓN HILO METALIZADO.jpg\n",
      "2023-06-20 11:30:02        394 loading_dataset/zara_images/page_2_idx_8_name_CAMISA ESTAMPADO ANIMAL.jpg\n",
      "2023-06-20 11:30:02        394 loading_dataset/zara_images/page_2_idx_9_name_CAMISA RAYAS CON LINO.jpg\n",
      "2023-06-20 11:30:02        395 loading_dataset/zara_images/page_3_idx_0_name_CAMISA CROPPED NUDO.jpg\n",
      "2023-06-20 11:30:02        395 loading_dataset/zara_images/page_3_idx_1_name_CAMISA LINO NUDO.jpg\n",
      "2023-06-20 11:30:02        395 loading_dataset/zara_images/page_3_idx_2_name_CAMISA BLAZER CINTURÓN.jpg\n",
      "2023-06-20 11:30:02        394 loading_dataset/zara_images/page_3_idx_3_name_BLUSA PLUMETI.jpg\n",
      "2023-06-20 11:30:02        394 loading_dataset/zara_images/page_3_idx_4_name_CAMISA CROP BOLSILLO.jpg\n",
      "2023-06-20 11:30:02        394 loading_dataset/zara_images/page_3_idx_5_name_CAMISA ESTAMPADO FLORAL.jpg\n",
      "2023-06-20 11:30:02        395 loading_dataset/zara_images/page_3_idx_6_name_CAMISA MANGA REMANGADA CON LINO.jpg\n",
      "2023-06-20 11:30:02        394 loading_dataset/zara_images/page_3_idx_7_name_CAMISA JOYAS.jpg\n",
      "2023-06-20 11:30:02        394 loading_dataset/zara_images/page_3_idx_8_name_MLTR SHRT 10.jpg\n",
      "2023-06-20 11:30:02        395 loading_dataset/zara_images/page_3_idx_9_name_CAMISA RAMIO TIE DYE.jpg\n",
      "2023-06-20 11:30:02      22297 loading_dataset/zara_images/page_4_idx_0_name_CAMISA LINO ESPALDA DESCUBIERTA.jpg\n",
      "2023-06-20 11:30:02      41578 loading_dataset/zara_images/page_4_idx_1_name_CAMISA LINO ESPALDA DESCUBIERTA.jpg\n",
      "2023-06-20 11:30:02      27787 loading_dataset/zara_images/page_4_idx_2_name_CAMISA OVERSIZE RAYAS.jpg\n",
      "2023-06-20 11:30:02      40475 loading_dataset/zara_images/page_4_idx_3_name_CAMISA OVERSIZE RAYAS.jpg\n",
      "2023-06-20 11:30:02      23907 loading_dataset/zara_images/page_4_idx_4_name_CAMISA CROPPED LAZO CINTURA.jpg\n",
      "2023-06-20 11:30:02      25319 loading_dataset/zara_images/page_4_idx_5_name_CAMISA ESTAMPADO CADENAS.jpg\n",
      "2023-06-20 11:30:02      33561 loading_dataset/zara_images/page_4_idx_6_name_CAMISA CROP POPELÍN.jpg\n",
      "2023-06-20 11:30:02      31807 loading_dataset/zara_images/page_4_idx_7_name_CAMISA SATINADA CORDONES.jpg\n",
      "2023-06-20 11:30:02      19912 loading_dataset/zara_images/page_4_idx_8_name_CAMISA SATINADA MANGA CAPA.jpg\n",
      "2023-06-20 11:30:02      57710 loading_dataset/zara_images/page_4_idx_9_name_CAMISA POPELÍN VOLUMEN.jpg\n",
      "2023-06-20 11:30:02        394 loading_dataset/zara_images/page_5_idx_0_name_CAMISA SEMITRANSPARENTE COMBINADA.jpg\n",
      "2023-06-20 11:30:02        394 loading_dataset/zara_images/page_5_idx_1_name_BLUSA TEJIDO RÚSTICO.jpg\n",
      "2023-06-20 11:30:02        394 loading_dataset/zara_images/page_5_idx_2_name_CAMISA POPELÍN RAYAS.jpg\n",
      "2023-06-20 11:30:02        395 loading_dataset/zara_images/page_5_idx_3_name_CAMISA OVERSIZE RAYAS.jpg\n",
      "2023-06-20 11:30:02        394 loading_dataset/zara_images/page_5_idx_4_name_CAMISA SATINADA ESTAMPADO DENIM.jpg\n",
      "2023-06-20 11:30:02        394 loading_dataset/zara_images/page_5_idx_5_name_BLUSA ESTAMPADA VOLANTES.jpg\n",
      "2023-06-20 11:30:02        394 loading_dataset/zara_images/page_5_idx_6_name_BLUSA COMBINADA VOLANTES.jpg\n",
      "2023-06-20 11:30:02        394 loading_dataset/zara_images/page_5_idx_7_name_CAMISA CROP ESTAMPADA.jpg\n",
      "2023-06-20 11:30:02        394 loading_dataset/zara_images/page_5_idx_8_name_CAMISA CROPPED.jpg\n",
      "2023-06-20 11:30:02        394 loading_dataset/zara_images/page_5_idx_9_name_BLUSA VOLANTES.jpg\n",
      "2023-06-20 11:30:02        394 loading_dataset/zara_images/page_6_idx_0_name_CAMISA SATINADA.jpg\n",
      "2023-06-20 11:30:02        394 loading_dataset/zara_images/page_6_idx_1_name_BLUSA VOLANTES.jpg\n",
      "2023-06-20 11:30:02        394 loading_dataset/zara_images/page_6_idx_2_name_BLUSA SEMITRANSPARENTE VOLANTES.jpg\n",
      "2023-06-20 11:30:02        394 loading_dataset/zara_images/page_6_idx_3_name_CAMISA RAYAS OVERSIZE.jpg\n",
      "2023-06-20 11:30:02        394 loading_dataset/zara_images/page_6_idx_4_name_CAMISA SATINADA MANGA ANCHA.jpg\n",
      "2023-06-20 11:30:02        394 loading_dataset/zara_images/page_6_idx_5_name_CAMISA OVERSIZE POPELÍN.jpg\n",
      "2023-06-20 11:30:02        394 loading_dataset/zara_images/page_6_idx_6_name_CAMISA CROP BORDADOS PERFORADOS.jpg\n",
      "2023-06-20 11:30:02        394 loading_dataset/zara_images/page_6_idx_7_name_CAMISA CROP BORDADOS PERFORADOS.jpg\n",
      "2023-06-20 11:30:02        394 loading_dataset/zara_images/page_6_idx_9_name_CAMISA POPELÍN.jpg\n",
      "2023-06-20 11:30:02        394 loading_dataset/zara_images/page_7_idx_0_name_CAMISA SATINADA VOLANTES.jpg\n",
      "2023-06-20 11:30:02        394 loading_dataset/zara_images/page_7_idx_1_name_CAMISA SATINADA VOLANTES.jpg\n",
      "2023-06-20 11:30:02        394 loading_dataset/zara_images/page_7_idx_2_name_CAMISA COMBINADA ESTRUCTURA.jpg\n",
      "2023-06-20 11:30:02        394 loading_dataset/zara_images/page_7_idx_3_name_CAMISA ESTAMPADO PATCHWORK.jpg\n",
      "2023-06-20 11:30:02        395 loading_dataset/zara_images/page_7_idx_4_name_BLUSA FLUIDA SATINADA.jpg\n",
      "2023-06-20 11:30:02        394 loading_dataset/zara_images/page_7_idx_5_name_CAMISA ESTAMPADO ANIMAL.jpg\n",
      "2023-06-20 11:30:02        394 loading_dataset/zara_images/page_7_idx_6_name_CAMISA BORDADOS ALGODÓN.jpg\n",
      "2023-06-20 11:30:02        394 loading_dataset/zara_images/page_7_idx_7_name_BLUSA LINO ABERTURAS.jpg\n",
      "2023-06-20 11:30:02        394 loading_dataset/zara_images/page_7_idx_8_name_BLUSA SATINADA CUELLO POLO.jpg\n",
      "2023-06-20 11:30:02        395 loading_dataset/zara_images/page_7_idx_9_name_BLUSA RAMIO PASAMANERÍA.jpg\n"
     ]
    }
   ],
   "source": [
    "!aws s3 ls s3://{bucket_name}/{bucket_prefix}/ --recursive"
   ]
  },
  {
   "cell_type": "code",
   "execution_count": null,
   "id": "56564b6c-73b2-4020-a1e9-ba2836be106c",
   "metadata": {},
   "outputs": [],
   "source": [
    "# If you set wait to False in the previous code cell, wait until the job completes\n",
    "while sm.describe_processing_job(\n",
    "        ProcessingJobName=sklearn_processor._current_job_name\n",
    "    )[\"ProcessingJobStatus\"] != \"Completed\":\n",
    "    time.sleep(10)\n",
    "    print(f\"Wait until {sklearn_processor._current_job_name} completed\")"
   ]
  }
 ],
 "metadata": {
  "availableInstances": [
   {
    "_defaultOrder": 0,
    "_isFastLaunch": true,
    "category": "General purpose",
    "gpuNum": 0,
    "hideHardwareSpecs": false,
    "memoryGiB": 4,
    "name": "ml.t3.medium",
    "vcpuNum": 2
   },
   {
    "_defaultOrder": 1,
    "_isFastLaunch": false,
    "category": "General purpose",
    "gpuNum": 0,
    "hideHardwareSpecs": false,
    "memoryGiB": 8,
    "name": "ml.t3.large",
    "vcpuNum": 2
   },
   {
    "_defaultOrder": 2,
    "_isFastLaunch": false,
    "category": "General purpose",
    "gpuNum": 0,
    "hideHardwareSpecs": false,
    "memoryGiB": 16,
    "name": "ml.t3.xlarge",
    "vcpuNum": 4
   },
   {
    "_defaultOrder": 3,
    "_isFastLaunch": false,
    "category": "General purpose",
    "gpuNum": 0,
    "hideHardwareSpecs": false,
    "memoryGiB": 32,
    "name": "ml.t3.2xlarge",
    "vcpuNum": 8
   },
   {
    "_defaultOrder": 4,
    "_isFastLaunch": true,
    "category": "General purpose",
    "gpuNum": 0,
    "hideHardwareSpecs": false,
    "memoryGiB": 8,
    "name": "ml.m5.large",
    "vcpuNum": 2
   },
   {
    "_defaultOrder": 5,
    "_isFastLaunch": false,
    "category": "General purpose",
    "gpuNum": 0,
    "hideHardwareSpecs": false,
    "memoryGiB": 16,
    "name": "ml.m5.xlarge",
    "vcpuNum": 4
   },
   {
    "_defaultOrder": 6,
    "_isFastLaunch": false,
    "category": "General purpose",
    "gpuNum": 0,
    "hideHardwareSpecs": false,
    "memoryGiB": 32,
    "name": "ml.m5.2xlarge",
    "vcpuNum": 8
   },
   {
    "_defaultOrder": 7,
    "_isFastLaunch": false,
    "category": "General purpose",
    "gpuNum": 0,
    "hideHardwareSpecs": false,
    "memoryGiB": 64,
    "name": "ml.m5.4xlarge",
    "vcpuNum": 16
   },
   {
    "_defaultOrder": 8,
    "_isFastLaunch": false,
    "category": "General purpose",
    "gpuNum": 0,
    "hideHardwareSpecs": false,
    "memoryGiB": 128,
    "name": "ml.m5.8xlarge",
    "vcpuNum": 32
   },
   {
    "_defaultOrder": 9,
    "_isFastLaunch": false,
    "category": "General purpose",
    "gpuNum": 0,
    "hideHardwareSpecs": false,
    "memoryGiB": 192,
    "name": "ml.m5.12xlarge",
    "vcpuNum": 48
   },
   {
    "_defaultOrder": 10,
    "_isFastLaunch": false,
    "category": "General purpose",
    "gpuNum": 0,
    "hideHardwareSpecs": false,
    "memoryGiB": 256,
    "name": "ml.m5.16xlarge",
    "vcpuNum": 64
   },
   {
    "_defaultOrder": 11,
    "_isFastLaunch": false,
    "category": "General purpose",
    "gpuNum": 0,
    "hideHardwareSpecs": false,
    "memoryGiB": 384,
    "name": "ml.m5.24xlarge",
    "vcpuNum": 96
   },
   {
    "_defaultOrder": 12,
    "_isFastLaunch": false,
    "category": "General purpose",
    "gpuNum": 0,
    "hideHardwareSpecs": false,
    "memoryGiB": 8,
    "name": "ml.m5d.large",
    "vcpuNum": 2
   },
   {
    "_defaultOrder": 13,
    "_isFastLaunch": false,
    "category": "General purpose",
    "gpuNum": 0,
    "hideHardwareSpecs": false,
    "memoryGiB": 16,
    "name": "ml.m5d.xlarge",
    "vcpuNum": 4
   },
   {
    "_defaultOrder": 14,
    "_isFastLaunch": false,
    "category": "General purpose",
    "gpuNum": 0,
    "hideHardwareSpecs": false,
    "memoryGiB": 32,
    "name": "ml.m5d.2xlarge",
    "vcpuNum": 8
   },
   {
    "_defaultOrder": 15,
    "_isFastLaunch": false,
    "category": "General purpose",
    "gpuNum": 0,
    "hideHardwareSpecs": false,
    "memoryGiB": 64,
    "name": "ml.m5d.4xlarge",
    "vcpuNum": 16
   },
   {
    "_defaultOrder": 16,
    "_isFastLaunch": false,
    "category": "General purpose",
    "gpuNum": 0,
    "hideHardwareSpecs": false,
    "memoryGiB": 128,
    "name": "ml.m5d.8xlarge",
    "vcpuNum": 32
   },
   {
    "_defaultOrder": 17,
    "_isFastLaunch": false,
    "category": "General purpose",
    "gpuNum": 0,
    "hideHardwareSpecs": false,
    "memoryGiB": 192,
    "name": "ml.m5d.12xlarge",
    "vcpuNum": 48
   },
   {
    "_defaultOrder": 18,
    "_isFastLaunch": false,
    "category": "General purpose",
    "gpuNum": 0,
    "hideHardwareSpecs": false,
    "memoryGiB": 256,
    "name": "ml.m5d.16xlarge",
    "vcpuNum": 64
   },
   {
    "_defaultOrder": 19,
    "_isFastLaunch": false,
    "category": "General purpose",
    "gpuNum": 0,
    "hideHardwareSpecs": false,
    "memoryGiB": 384,
    "name": "ml.m5d.24xlarge",
    "vcpuNum": 96
   },
   {
    "_defaultOrder": 20,
    "_isFastLaunch": false,
    "category": "General purpose",
    "gpuNum": 0,
    "hideHardwareSpecs": true,
    "memoryGiB": 0,
    "name": "ml.geospatial.interactive",
    "supportedImageNames": [
     "sagemaker-geospatial-v1-0"
    ],
    "vcpuNum": 0
   },
   {
    "_defaultOrder": 21,
    "_isFastLaunch": true,
    "category": "Compute optimized",
    "gpuNum": 0,
    "hideHardwareSpecs": false,
    "memoryGiB": 4,
    "name": "ml.c5.large",
    "vcpuNum": 2
   },
   {
    "_defaultOrder": 22,
    "_isFastLaunch": false,
    "category": "Compute optimized",
    "gpuNum": 0,
    "hideHardwareSpecs": false,
    "memoryGiB": 8,
    "name": "ml.c5.xlarge",
    "vcpuNum": 4
   },
   {
    "_defaultOrder": 23,
    "_isFastLaunch": false,
    "category": "Compute optimized",
    "gpuNum": 0,
    "hideHardwareSpecs": false,
    "memoryGiB": 16,
    "name": "ml.c5.2xlarge",
    "vcpuNum": 8
   },
   {
    "_defaultOrder": 24,
    "_isFastLaunch": false,
    "category": "Compute optimized",
    "gpuNum": 0,
    "hideHardwareSpecs": false,
    "memoryGiB": 32,
    "name": "ml.c5.4xlarge",
    "vcpuNum": 16
   },
   {
    "_defaultOrder": 25,
    "_isFastLaunch": false,
    "category": "Compute optimized",
    "gpuNum": 0,
    "hideHardwareSpecs": false,
    "memoryGiB": 72,
    "name": "ml.c5.9xlarge",
    "vcpuNum": 36
   },
   {
    "_defaultOrder": 26,
    "_isFastLaunch": false,
    "category": "Compute optimized",
    "gpuNum": 0,
    "hideHardwareSpecs": false,
    "memoryGiB": 96,
    "name": "ml.c5.12xlarge",
    "vcpuNum": 48
   },
   {
    "_defaultOrder": 27,
    "_isFastLaunch": false,
    "category": "Compute optimized",
    "gpuNum": 0,
    "hideHardwareSpecs": false,
    "memoryGiB": 144,
    "name": "ml.c5.18xlarge",
    "vcpuNum": 72
   },
   {
    "_defaultOrder": 28,
    "_isFastLaunch": false,
    "category": "Compute optimized",
    "gpuNum": 0,
    "hideHardwareSpecs": false,
    "memoryGiB": 192,
    "name": "ml.c5.24xlarge",
    "vcpuNum": 96
   },
   {
    "_defaultOrder": 29,
    "_isFastLaunch": true,
    "category": "Accelerated computing",
    "gpuNum": 1,
    "hideHardwareSpecs": false,
    "memoryGiB": 16,
    "name": "ml.g4dn.xlarge",
    "vcpuNum": 4
   },
   {
    "_defaultOrder": 30,
    "_isFastLaunch": false,
    "category": "Accelerated computing",
    "gpuNum": 1,
    "hideHardwareSpecs": false,
    "memoryGiB": 32,
    "name": "ml.g4dn.2xlarge",
    "vcpuNum": 8
   },
   {
    "_defaultOrder": 31,
    "_isFastLaunch": false,
    "category": "Accelerated computing",
    "gpuNum": 1,
    "hideHardwareSpecs": false,
    "memoryGiB": 64,
    "name": "ml.g4dn.4xlarge",
    "vcpuNum": 16
   },
   {
    "_defaultOrder": 32,
    "_isFastLaunch": false,
    "category": "Accelerated computing",
    "gpuNum": 1,
    "hideHardwareSpecs": false,
    "memoryGiB": 128,
    "name": "ml.g4dn.8xlarge",
    "vcpuNum": 32
   },
   {
    "_defaultOrder": 33,
    "_isFastLaunch": false,
    "category": "Accelerated computing",
    "gpuNum": 4,
    "hideHardwareSpecs": false,
    "memoryGiB": 192,
    "name": "ml.g4dn.12xlarge",
    "vcpuNum": 48
   },
   {
    "_defaultOrder": 34,
    "_isFastLaunch": false,
    "category": "Accelerated computing",
    "gpuNum": 1,
    "hideHardwareSpecs": false,
    "memoryGiB": 256,
    "name": "ml.g4dn.16xlarge",
    "vcpuNum": 64
   },
   {
    "_defaultOrder": 35,
    "_isFastLaunch": false,
    "category": "Accelerated computing",
    "gpuNum": 1,
    "hideHardwareSpecs": false,
    "memoryGiB": 61,
    "name": "ml.p3.2xlarge",
    "vcpuNum": 8
   },
   {
    "_defaultOrder": 36,
    "_isFastLaunch": false,
    "category": "Accelerated computing",
    "gpuNum": 4,
    "hideHardwareSpecs": false,
    "memoryGiB": 244,
    "name": "ml.p3.8xlarge",
    "vcpuNum": 32
   },
   {
    "_defaultOrder": 37,
    "_isFastLaunch": false,
    "category": "Accelerated computing",
    "gpuNum": 8,
    "hideHardwareSpecs": false,
    "memoryGiB": 488,
    "name": "ml.p3.16xlarge",
    "vcpuNum": 64
   },
   {
    "_defaultOrder": 38,
    "_isFastLaunch": false,
    "category": "Accelerated computing",
    "gpuNum": 8,
    "hideHardwareSpecs": false,
    "memoryGiB": 768,
    "name": "ml.p3dn.24xlarge",
    "vcpuNum": 96
   },
   {
    "_defaultOrder": 39,
    "_isFastLaunch": false,
    "category": "Memory Optimized",
    "gpuNum": 0,
    "hideHardwareSpecs": false,
    "memoryGiB": 16,
    "name": "ml.r5.large",
    "vcpuNum": 2
   },
   {
    "_defaultOrder": 40,
    "_isFastLaunch": false,
    "category": "Memory Optimized",
    "gpuNum": 0,
    "hideHardwareSpecs": false,
    "memoryGiB": 32,
    "name": "ml.r5.xlarge",
    "vcpuNum": 4
   },
   {
    "_defaultOrder": 41,
    "_isFastLaunch": false,
    "category": "Memory Optimized",
    "gpuNum": 0,
    "hideHardwareSpecs": false,
    "memoryGiB": 64,
    "name": "ml.r5.2xlarge",
    "vcpuNum": 8
   },
   {
    "_defaultOrder": 42,
    "_isFastLaunch": false,
    "category": "Memory Optimized",
    "gpuNum": 0,
    "hideHardwareSpecs": false,
    "memoryGiB": 128,
    "name": "ml.r5.4xlarge",
    "vcpuNum": 16
   },
   {
    "_defaultOrder": 43,
    "_isFastLaunch": false,
    "category": "Memory Optimized",
    "gpuNum": 0,
    "hideHardwareSpecs": false,
    "memoryGiB": 256,
    "name": "ml.r5.8xlarge",
    "vcpuNum": 32
   },
   {
    "_defaultOrder": 44,
    "_isFastLaunch": false,
    "category": "Memory Optimized",
    "gpuNum": 0,
    "hideHardwareSpecs": false,
    "memoryGiB": 384,
    "name": "ml.r5.12xlarge",
    "vcpuNum": 48
   },
   {
    "_defaultOrder": 45,
    "_isFastLaunch": false,
    "category": "Memory Optimized",
    "gpuNum": 0,
    "hideHardwareSpecs": false,
    "memoryGiB": 512,
    "name": "ml.r5.16xlarge",
    "vcpuNum": 64
   },
   {
    "_defaultOrder": 46,
    "_isFastLaunch": false,
    "category": "Memory Optimized",
    "gpuNum": 0,
    "hideHardwareSpecs": false,
    "memoryGiB": 768,
    "name": "ml.r5.24xlarge",
    "vcpuNum": 96
   },
   {
    "_defaultOrder": 47,
    "_isFastLaunch": false,
    "category": "Accelerated computing",
    "gpuNum": 1,
    "hideHardwareSpecs": false,
    "memoryGiB": 16,
    "name": "ml.g5.xlarge",
    "vcpuNum": 4
   },
   {
    "_defaultOrder": 48,
    "_isFastLaunch": false,
    "category": "Accelerated computing",
    "gpuNum": 1,
    "hideHardwareSpecs": false,
    "memoryGiB": 32,
    "name": "ml.g5.2xlarge",
    "vcpuNum": 8
   },
   {
    "_defaultOrder": 49,
    "_isFastLaunch": false,
    "category": "Accelerated computing",
    "gpuNum": 1,
    "hideHardwareSpecs": false,
    "memoryGiB": 64,
    "name": "ml.g5.4xlarge",
    "vcpuNum": 16
   },
   {
    "_defaultOrder": 50,
    "_isFastLaunch": false,
    "category": "Accelerated computing",
    "gpuNum": 1,
    "hideHardwareSpecs": false,
    "memoryGiB": 128,
    "name": "ml.g5.8xlarge",
    "vcpuNum": 32
   },
   {
    "_defaultOrder": 51,
    "_isFastLaunch": false,
    "category": "Accelerated computing",
    "gpuNum": 1,
    "hideHardwareSpecs": false,
    "memoryGiB": 256,
    "name": "ml.g5.16xlarge",
    "vcpuNum": 64
   },
   {
    "_defaultOrder": 52,
    "_isFastLaunch": false,
    "category": "Accelerated computing",
    "gpuNum": 4,
    "hideHardwareSpecs": false,
    "memoryGiB": 192,
    "name": "ml.g5.12xlarge",
    "vcpuNum": 48
   },
   {
    "_defaultOrder": 53,
    "_isFastLaunch": false,
    "category": "Accelerated computing",
    "gpuNum": 4,
    "hideHardwareSpecs": false,
    "memoryGiB": 384,
    "name": "ml.g5.24xlarge",
    "vcpuNum": 96
   },
   {
    "_defaultOrder": 54,
    "_isFastLaunch": false,
    "category": "Accelerated computing",
    "gpuNum": 8,
    "hideHardwareSpecs": false,
    "memoryGiB": 768,
    "name": "ml.g5.48xlarge",
    "vcpuNum": 192
   },
   {
    "_defaultOrder": 55,
    "_isFastLaunch": false,
    "category": "Accelerated computing",
    "gpuNum": 8,
    "hideHardwareSpecs": false,
    "memoryGiB": 1152,
    "name": "ml.p4d.24xlarge",
    "vcpuNum": 96
   },
   {
    "_defaultOrder": 56,
    "_isFastLaunch": false,
    "category": "Accelerated computing",
    "gpuNum": 8,
    "hideHardwareSpecs": false,
    "memoryGiB": 1152,
    "name": "ml.p4de.24xlarge",
    "vcpuNum": 96
   }
  ],
  "instance_type": "ml.t3.medium",
  "kernelspec": {
   "display_name": "Python 3 (Data Science)",
   "language": "python",
   "name": "python3__SAGEMAKER_INTERNAL__arn:aws:sagemaker:eu-central-1:936697816551:image/datascience-1.0"
  },
  "language_info": {
   "codemirror_mode": {
    "name": "ipython",
    "version": 3
   },
   "file_extension": ".py",
   "mimetype": "text/x-python",
   "name": "python",
   "nbconvert_exporter": "python",
   "pygments_lexer": "ipython3",
   "version": "3.7.10"
  }
 },
 "nbformat": 4,
 "nbformat_minor": 5
}
